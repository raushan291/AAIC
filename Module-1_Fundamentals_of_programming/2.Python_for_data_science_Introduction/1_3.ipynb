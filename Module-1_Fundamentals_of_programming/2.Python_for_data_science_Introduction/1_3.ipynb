{
 "cells": [
  {
   "cell_type": "markdown",
   "metadata": {
    "id": "9NhgilnU5dpy"
   },
   "source": [
    "# Python Comments"
   ]
  },
  {
   "cell_type": "markdown",
   "metadata": {
    "id": "3TX6NI1p5dp2"
   },
   "source": [
    "Comments are lines that exist in computer programs that are ignored by compilers and interpreters. \n",
    "\n",
    "Including comments in programs makes code more readable for humans as it provides some information or explanation about what each part of a program is doing.\n",
    "\n",
    "In general, it is a good idea to write comments while you are writing or updating a program as it is easy to forget your thought process later on, and comments written later may be less useful in the long term. "
   ]
  },
  {
   "cell_type": "markdown",
   "metadata": {
    "id": "vBLt1Apa5dp3"
   },
   "source": [
    "In Python, we use the hash (#) symbol to start writing a comment."
   ]
  },
  {
   "cell_type": "code",
   "execution_count": null,
   "metadata": {
    "colab": {
     "base_uri": "https://localhost:8080/"
    },
    "id": "e5tq1Kua5dp3",
    "outputId": "1f4172dc-18d2-403a-c231-3ac93dcf984b"
   },
   "outputs": [
    {
     "name": "stdout",
     "output_type": "stream",
     "text": [
      "Hello, world 2\n"
     ]
    }
   ],
   "source": [
    "#Print Hello, world to console\n",
    "print(\"Hello, world 2\")"
   ]
  },
  {
   "cell_type": "markdown",
   "metadata": {
    "id": "ZXGq48oT5dp5"
   },
   "source": [
    "# Multi Line Comments"
   ]
  },
  {
   "cell_type": "markdown",
   "metadata": {
    "id": "dsFAF-D05dp5"
   },
   "source": [
    "If we have comments that extend multiple lines, one way of doing it is to use hash (#) in the beginning of each line."
   ]
  },
  {
   "cell_type": "code",
   "execution_count": null,
   "metadata": {
    "collapsed": true,
    "id": "G3Friazu5dp6"
   },
   "outputs": [],
   "source": [
    "#This is a long comment\n",
    "#and it extends \n",
    "#Multiple lines"
   ]
  },
  {
   "cell_type": "markdown",
   "metadata": {
    "id": "DLcQhk375dp6"
   },
   "source": [
    "Another way of doing this is to use triple quotes, either ''' or \"\"\"."
   ]
  },
  {
   "cell_type": "code",
   "execution_count": null,
   "metadata": {
    "id": "rWLjGakJ5dp7",
    "outputId": "dd7ef107-bca2-4267-f31d-6c1816afa46a"
   },
   "outputs": [
    {
     "data": {
      "text/plain": [
       "'This is also a\\nperfect example of\\nmulti-line comments'"
      ]
     },
     "execution_count": 3,
     "metadata": {
      "tags": []
     },
     "output_type": "execute_result"
    }
   ],
   "source": [
    "\"\"\"This is also a\n",
    "perfect example of\n",
    "multi-line comments\"\"\""
   ]
  },
  {
   "cell_type": "markdown",
   "metadata": {
    "id": "3TGb_VF75dp7"
   },
   "source": [
    "# DocString in python"
   ]
  },
  {
   "cell_type": "markdown",
   "metadata": {
    "id": "7SVXRcFD5dp7"
   },
   "source": [
    "Docstring is short for documentation string.\n",
    "\n",
    "It is a string that occurs as the first statement in a module, function, class, or method definition."
   ]
  },
  {
   "cell_type": "code",
   "execution_count": null,
   "metadata": {
    "id": "1BB9VLro5dp8",
    "outputId": "ceeabc0f-0c22-48b8-d585-a5a8493e0dcb"
   },
   "outputs": [
    {
     "name": "stdout",
     "output_type": "stream",
     "text": [
      "20\n"
     ]
    }
   ],
   "source": [
    "def double(num):\n",
    "    \"\"\"\n",
    "    function to double the number\n",
    "    \"\"\"\n",
    "    return 2 * num\n",
    "\n",
    "print double(10)"
   ]
  },
  {
   "cell_type": "code",
   "execution_count": null,
   "metadata": {
    "id": "z5DVxHoD5dp8",
    "outputId": "b5471462-f314-4164-d2bc-7018a3f66817"
   },
   "outputs": [
    {
     "name": "stdout",
     "output_type": "stream",
     "text": [
      "\n",
      "    function to double the number\n",
      "    \n"
     ]
    }
   ],
   "source": [
    "print double.__doc__ #Docstring is available to us as the attribute __doc__ of the function"
   ]
  },
  {
   "cell_type": "markdown",
   "metadata": {
    "id": "w1-yha-V5dp8"
   },
   "source": [
    "# Python Indentation"
   ]
  },
  {
   "cell_type": "markdown",
   "metadata": {
    "id": "QWPlIlGd5dp8"
   },
   "source": [
    "1. Most of the programming languages like C, C++, Java use braces { } to define a block of code. Python uses indentation.\n",
    "\n",
    "2. A code block (body of a function, loop etc.) starts with indentation and ends with the first unindented line. The amount of indentation is up to you, but it must be consistent throughout that block.\n",
    "\n",
    "3. Generally four whitespaces are used for indentation and is preferred over tabs."
   ]
  },
  {
   "cell_type": "code",
   "execution_count": null,
   "metadata": {
    "id": "PwzhsnWv5dp9",
    "outputId": "47db2052-a099-41db-e480-77cc404534c8"
   },
   "outputs": [
    {
     "name": "stdout",
     "output_type": "stream",
     "text": [
      "0\n",
      "1\n",
      "2\n",
      "3\n",
      "4\n",
      "5\n",
      "6\n",
      "7\n",
      "8\n",
      "9\n"
     ]
    }
   ],
   "source": [
    "for i in range(10):\n",
    "    print i"
   ]
  },
  {
   "cell_type": "markdown",
   "metadata": {
    "id": "Dbnk4KmM5dp9"
   },
   "source": [
    "Indentation can be ignored in line continuation. But it's a good idea to always indent. It makes the code more readable."
   ]
  },
  {
   "cell_type": "code",
   "execution_count": null,
   "metadata": {
    "id": "YEgl0dsb5dp9",
    "outputId": "b81947d1-38f2-4dbe-bf7b-d113401f972a"
   },
   "outputs": [
    {
     "name": "stdout",
     "output_type": "stream",
     "text": [
      "Machine Learning\n"
     ]
    }
   ],
   "source": [
    "if True:\n",
    "    print \"Machine Learning\"\n",
    "    c = \"AAIC\""
   ]
  },
  {
   "cell_type": "code",
   "execution_count": null,
   "metadata": {
    "id": "Y7sWA6zV5dp9",
    "outputId": "550c799d-8e04-4978-9622-96fff4839360"
   },
   "outputs": [
    {
     "name": "stdout",
     "output_type": "stream",
     "text": [
      "Machine Learning\n"
     ]
    }
   ],
   "source": [
    "if True: print \"Machine Learning\"; c = \"AAIC\""
   ]
  },
  {
   "cell_type": "markdown",
   "metadata": {
    "id": "LkpGcruC5dp9"
   },
   "source": [
    "# Python Statement"
   ]
  },
  {
   "cell_type": "markdown",
   "metadata": {
    "id": "9wV-Dafu5dp-"
   },
   "source": [
    "Instructions that a Python interpreter can execute are called statements."
   ]
  },
  {
   "cell_type": "markdown",
   "metadata": {
    "id": "HsFgmf4D5dp-"
   },
   "source": [
    "Examples:"
   ]
  },
  {
   "cell_type": "code",
   "execution_count": null,
   "metadata": {
    "collapsed": true,
    "id": "KSKr71FY5dp-"
   },
   "outputs": [],
   "source": [
    " a = 1  #single statement"
   ]
  },
  {
   "cell_type": "markdown",
   "metadata": {
    "id": "Bl77MMSg5dp-"
   },
   "source": [
    "# Multi-Line Statement"
   ]
  },
  {
   "cell_type": "markdown",
   "metadata": {
    "id": "kxrg6PYI5dp-"
   },
   "source": [
    "In Python, end of a statement is marked by a newline character. But we can make a statement extend over multiple lines with the line continuation character (\\)."
   ]
  },
  {
   "cell_type": "code",
   "execution_count": null,
   "metadata": {
    "collapsed": true,
    "id": "TOekGko75dp-"
   },
   "outputs": [],
   "source": [
    "a = 1 + 2 + 3 + \\\n",
    "    4 + 5 + 6 + \\\n",
    "    7 + 8"
   ]
  },
  {
   "cell_type": "code",
   "execution_count": null,
   "metadata": {
    "id": "2MGYHYK-5dp-",
    "outputId": "4ff7d6f2-c024-44a3-a447-99d224e9442d"
   },
   "outputs": [
    {
     "name": "stdout",
     "output_type": "stream",
     "text": [
      "36\n"
     ]
    }
   ],
   "source": [
    "print a"
   ]
  },
  {
   "cell_type": "code",
   "execution_count": null,
   "metadata": {
    "id": "bqsgS-0-5dp_",
    "outputId": "6b73782c-5781-484e-cb26-89dc22d0f64c"
   },
   "outputs": [
    {
     "name": "stdout",
     "output_type": "stream",
     "text": [
      "36\n"
     ]
    }
   ],
   "source": [
    "#another way is\n",
    "a = (1 + 2 + 3 +\n",
    "    4 + 5 + 6 + \n",
    "    7 + 8)\n",
    "print a"
   ]
  },
  {
   "cell_type": "code",
   "execution_count": null,
   "metadata": {
    "collapsed": true,
    "id": "EjIdwp9B5dp_"
   },
   "outputs": [],
   "source": [
    "a = 10; b = 20; c = 30   #put multiple statements in a single line using ;"
   ]
  }
 ],
 "metadata": {
  "colab": {
   "name": "1.3.ipynb",
   "provenance": []
  },
  "kernelspec": {
   "display_name": "Python 3",
   "language": "python",
   "name": "python3"
  },
  "language_info": {
   "codemirror_mode": {
    "name": "ipython",
    "version": 3
   },
   "file_extension": ".py",
   "mimetype": "text/x-python",
   "name": "python",
   "nbconvert_exporter": "python",
   "pygments_lexer": "ipython3",
   "version": "3.8.8"
  }
 },
 "nbformat": 4,
 "nbformat_minor": 1
}
